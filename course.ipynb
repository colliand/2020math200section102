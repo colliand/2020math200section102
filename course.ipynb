{
 "cells": [
  {
   "cell_type": "markdown",
   "metadata": {
    "slideshow": {
     "slide_type": "slide"
    }
   },
   "source": [
    "# Course Information\n",
    "\n",
    "### Math 200 Section 102 (J. Colliander)\n",
    "\n",
    "MWF: 11a-12p via Zoom\n",
    "\n",
    "\n"
   ]
  },
  {
   "cell_type": "markdown",
   "metadata": {
    "slideshow": {
     "slide_type": "subslide"
    }
   },
   "source": [
    "![Suess](https://wwejubwfy.s3.amazonaws.com/OTP-deluxe-1.jpg_10001000_pixels_2018-08-30_20-07-51.png)\n"
   ]
  },
  {
   "cell_type": "markdown",
   "metadata": {
    "slideshow": {
     "slide_type": "subslide"
    }
   },
   "source": [
    "## Links\n",
    "\n",
    "+ [syllabus](https://wwejubwfy.s3.amazonaws.com/syllabus-outline.pdf)\n",
    "+ textbooks\n",
    "    + [Stewart 7e]\n",
    "    + [CLP-3](https://www.math.ubc.ca/~CLP/CLP3/)\n",
    "+ [timetable](https://courses.students.ubc.ca/cs/courseschedule?pname=subjarea&tname=subj-course&dept=MATH&course=200)\n",
    "+ [Colliander's section on Canvas](https://canvas.ubc.ca/courses/55262)\n",
    "+ [MATH200 site on Canvas](https://canvas.ubc.ca/courses/62500) (official course policies are here)|"
   ]
  },
  {
   "cell_type": "markdown",
   "metadata": {
    "slideshow": {
     "slide_type": "subslide"
    }
   },
   "source": [
    "\n",
    "\n",
    "### Three Chapters\n",
    "+ space and vectors\n",
    "+ partial derivatives\n",
    "+ multiple integrals\n",
    "\n",
    "Remark: ~~vector fields~~, ~~Stokes theorem~~\n",
    "\n"
   ]
  },
  {
   "cell_type": "markdown",
   "metadata": {
    "slideshow": {
     "slide_type": "subslide"
    }
   },
   "source": [
    "### Evaluations\n",
    "+ 10%: weekly homework\n",
    "+ 50%: 3 tests (September 30, October 26, November 20)\n",
    "+ 40%: final exam (TBD)"
   ]
  }
 ],
 "metadata": {
  "celltoolbar": "Slideshow",
  "kernelspec": {
   "display_name": "Python 3",
   "language": "python",
   "name": "python3"
  },
  "language_info": {
   "codemirror_mode": {
    "name": "ipython",
    "version": 3
   },
   "file_extension": ".py",
   "mimetype": "text/x-python",
   "name": "python",
   "nbconvert_exporter": "python",
   "pygments_lexer": "ipython3",
   "version": "3.8.3"
  }
 },
 "nbformat": 4,
 "nbformat_minor": 4
}
