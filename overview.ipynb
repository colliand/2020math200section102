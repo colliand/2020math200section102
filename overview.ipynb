{
 "cells": [
  {
   "cell_type": "markdown",
   "metadata": {},
   "source": [
    "# Overview\n",
    "\n",
    "This is a course in **Multivariable Calculus**. \n"
   ]
  },
  {
   "cell_type": "markdown",
   "metadata": {},
   "source": [
    "\n",
    "## Calculus in one versus many variables\n",
    "\n",
    "### Calculus on $\\mathbb{R}$\n",
    "\n",
    "#### Functions from  $\\mathbb{R} \\longmapsto  \\mathbb{R}$\n",
    "\n",
    "\n",
    "Let $f: \\mathbb{R} \\longmapsto \\mathbb{R}$ be a function that maps the real line to the real line. This function's domain and range have the same dimension.\n",
    "\n",
    " What does a function look like? Can we understand a function visually? The **graph of a function**\n",
    "\n",
    " $$ x \\longmapsto f(x) = y $$\n",
    "\n",
    "is the locus of points $\\{ (x,f(x)) \\in {\\mathbb{R}^2}: x \\in \\mathbb{R} \\}$. (This implicitly assumes that the domain of $f$ is the entire real line $\\mathbb{R}$.) \n",
    " Function arise in descriptions of natural phenomena. Functions describe nature. We care about functions. What are your favorite functional relationships in nature? Can you find a functional relationship discussed in the news over the past week?\n",
    "\n"
   ]
  },
  {
   "cell_type": "code",
   "execution_count": null,
   "metadata": {},
   "outputs": [],
   "source": []
  }
 ],
 "metadata": {
  "kernelspec": {
   "display_name": "Python 3",
   "language": "python",
   "name": "python3"
  },
  "language_info": {
   "codemirror_mode": {
    "name": "ipython",
    "version": 3
   },
   "file_extension": ".py",
   "mimetype": "text/x-python",
   "name": "python",
   "nbconvert_exporter": "python",
   "pygments_lexer": "ipython3",
   "version": "3.8.3"
  }
 },
 "nbformat": 4,
 "nbformat_minor": 4
}
