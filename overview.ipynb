{
 "cells": [
  {
   "cell_type": "markdown",
   "metadata": {
    "slideshow": {
     "slide_type": "slide"
    }
   },
   "source": [
    "# Overview\n",
    "\n",
    "This is a course in **Multivariable Calculus**. \n"
   ]
  },
  {
   "cell_type": "markdown",
   "metadata": {
    "slideshow": {
     "slide_type": "fragment"
    }
   },
   "source": [
    "\n",
    "## Calculus in one versus many variables"
   ]
  },
  {
   "cell_type": "markdown",
   "metadata": {
    "slideshow": {
     "slide_type": "slide"
    }
   },
   "source": [
    "\n",
    "\n",
    "\n",
    "## Calculus on $\\mathbb{R}$\n",
    "\n",
    "#### Functions from  $\\mathbb{R} \\longmapsto  \\mathbb{R}$\n",
    "\n",
    "\n",
    "Let $f: \\mathbb{R} \\longmapsto \\mathbb{R}$ be a function that maps the real line to the real line. This function's domain and range have the same dimension.\n",
    "\n",
    " What does a function look like? Can we understand a function visually? The **graph of a function**\n",
    "\n",
    " $$ x \\longmapsto f(x) = y $$\n",
    "\n",
    "is the locus of points $\\{ (x,f(x)) \\in {\\mathbb{R}^2}: x \\in \\mathbb{R} \\}$. (This implicitly assumes that the domain of $f$ is the entire real line $\\mathbb{R}$.) \n",
    " Function arise in descriptions of natural phenomena. Functions describe nature. We care about functions. What are your favorite functional relationships in nature? Can you find a functional relationship discussed in the news over the past week?\n",
    "\n"
   ]
  },
  {
   "cell_type": "markdown",
   "metadata": {
    "slideshow": {
     "slide_type": "subslide"
    }
   },
   "source": [
    "## differentiation\n",
    "\n",
    "limits, continuity, differentiability, $ \\epsilon - \\delta $ arguments, \n",
    "\n",
    " tangent line as a limit of secant lines, derivatives, derivative formulae, differential equations (e.g. \n",
    " $ \\frac{d}{dx}f = f , \\frac{d^2}{dx^2}f = f$).\n",
    "\n",
    "\n",
    "![tangent animation](https://upload.wikimedia.org/wikipedia/commons/c/cc/Tangent_animation.gif)\n",
    "\n",
    " mean value theorem, optimization, curve sketching\n",
    "\n",
    "### linear approximation"
   ]
  },
  {
   "cell_type": "markdown",
   "metadata": {
    "slideshow": {
     "slide_type": "subslide"
    }
   },
   "source": [
    "## integration\n",
    "\n",
    "\n",
    " area under curve, averaging, mean value theorem for integrals, fundamental theorem of calculus\n",
    " \n",
    "![area under curve](http://upload.wikimedia.org/wikipedia/commons/6/61/Riemann_sum_%28rightbox%29.gif)\n"
   ]
  },
  {
   "cell_type": "markdown",
   "metadata": {
    "slideshow": {
     "slide_type": "slide"
    }
   },
   "source": [
    "## Vector Calculus on $\\mathbb{R}^d$\n",
    "\n"
   ]
  },
  {
   "cell_type": "markdown",
   "metadata": {
    "slideshow": {
     "slide_type": "subslide"
    }
   },
   "source": [
    "\n",
    "\n",
    "###  Functions from $\\mathbb{R}^j$ to $\\mathbb{R}^k$  \n",
    "\n",
    " Consider three examples for different choices of \\(j,k\\):\n",
    " $$ {\\bf{r}}: \\mathbb{R}^1 \\longmapsto \\mathbb{R}^3 $$\n",
    " $$ f: \\mathbb{R}^3 \\longmapsto \\mathbb{R}^1 $$\n",
    " $$ {\\bf{v}}: \\mathbb{R}^3 \\longmapsto \\mathbb{R}^3 $$\n",
    "\n",
    " What do these functions look like? Can we understand each of them visually? Think through each scenario carefully:\n"
   ]
  },
  {
   "cell_type": "markdown",
   "metadata": {
    "slideshow": {
     "slide_type": "subslide"
    }
   },
   "source": [
    "\n",
    "| visualization       | domain $ \\longmapsto $ range   |\n",
    "|---------------------|----------------------------------------------------------|\n",
    "| parametric curve    | ${\\bf{r}}: t \\longmapsto (x(t), y(t), z(t) ) = {\\bf{r}}(t)$   |\n",
    "| graph               | $ f: (x,y,z) \\longmapsto f(x,y,z) $|\n",
    "| vector field        | ${\\bf{v}}: (x,y,z) \\longmapsto (v^1 (x,y,z), v^2 (x,y,z) , v^3 (x,y,z) ) = {\\bf{v}}(x,y,z) $ |\n",
    "\n",
    " Give examples of functional relationships in nature described by these kinds of functions (e.g. Fluids, Celestial Mechanics, Plasma, Economics, Electromagnetism, Gravitational Waves, Hurricane Dynamics).\n",
    "\n",
    "*Key Observation:* Different /kinds of functions/ appear when we move from one to many variables. The notion of /function/ ramifies based on the dimension of its domain and range.\n",
    "\n",
    "### linear approximation\n",
    "\n",
    " limits, continuity, differentiability\n",
    "\n",
    " tangent vectors, Tangent-Normal-Binormal frame, local structure of a parametric curve (e.g. Kepler's laws from Newtonian Gravity)\n",
    "\n",
    " partial derivatives, tangent planes, partial differential equations (e.g. $ u_{xx} + u_{yy} = 0 $, $ u_t = u_{xx} $, $ u_{tt} - u_{xx} = 0 $).\n",
    "\n",
    " optimization, constrained optimization and Lagrange multipliers, \n",
    "\n",
    "\n"
   ]
  },
  {
   "cell_type": "markdown",
   "metadata": {
    "slideshow": {
     "slide_type": "subslide"
    }
   },
   "source": [
    "### integration\n",
    " \n",
    " + multiple integrals, change of variable formula\n",
    " + vector fields and line integrals, line integrals of vector fields\n",
    " + conservative vector fields and path independence\n",
    " + parametric surfaces, surface integrals\n",
    " + curl and divergence\n",
    " + Green's Theorem\n",
    " + Stokes' Theorem\n",
    " + Divergence Theorem"
   ]
  },
  {
   "cell_type": "code",
   "execution_count": null,
   "metadata": {},
   "outputs": [],
   "source": []
  }
 ],
 "metadata": {
  "celltoolbar": "Slideshow",
  "kernelspec": {
   "display_name": "Python 3",
   "language": "python",
   "name": "python3"
  },
  "language_info": {
   "codemirror_mode": {
    "name": "ipython",
    "version": 3
   },
   "file_extension": ".py",
   "mimetype": "text/x-python",
   "name": "python",
   "nbconvert_exporter": "python",
   "pygments_lexer": "ipython3",
   "version": "3.8.3"
  }
 },
 "nbformat": 4,
 "nbformat_minor": 4
}
